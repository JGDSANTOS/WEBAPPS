{
 "cells": [
  {
   "cell_type": "code",
   "execution_count": null,
   "metadata": {},
   "outputs": [],
   "source": []
  },
  {
   "cell_type": "markdown",
   "metadata": {},
   "source": [
    "# Logistical Database"
   ]
  },
  {
   "cell_type": "markdown",
   "metadata": {},
   "source": [
    "## Read Data in Pandas library"
   ]
  },
  {
   "cell_type": "code",
   "execution_count": 9,
   "metadata": {},
   "outputs": [],
   "source": [
    "#Bibliotecas\n",
    "import pandas as pd\n",
    "import datetime as dt"
   ]
  },
  {
   "cell_type": "code",
   "execution_count": 10,
   "metadata": {},
   "outputs": [],
   "source": [
    "#Arquivo\n",
    "df = pd.read_csv(r\"C:\\Users\\jgdsantos\\OneDrive\\Aralco\\5. Material Complementar\\Projetos\\DB_Logistical\\Analise_Python\\BD_Logistica.csv\", encoding='latin-1', sep = ';')"
   ]
  },
  {
   "cell_type": "code",
   "execution_count": 11,
   "metadata": {},
   "outputs": [
    {
     "data": {
      "text/html": [
       "<div>\n",
       "<style scoped>\n",
       "    .dataframe tbody tr th:only-of-type {\n",
       "        vertical-align: middle;\n",
       "    }\n",
       "\n",
       "    .dataframe tbody tr th {\n",
       "        vertical-align: top;\n",
       "    }\n",
       "\n",
       "    .dataframe thead th {\n",
       "        text-align: right;\n",
       "    }\n",
       "</style>\n",
       "<table border=\"1\" class=\"dataframe\">\n",
       "  <thead>\n",
       "    <tr style=\"text-align: right;\">\n",
       "      <th></th>\n",
       "      <th>N§ Pedido</th>\n",
       "      <th>Cliente - Motorista</th>\n",
       "      <th>Data EmissÆo Pedido</th>\n",
       "      <th>Data Entrega Prevista</th>\n",
       "      <th>Destino</th>\n",
       "      <th>Itens</th>\n",
       "      <th>R$ Faturados</th>\n",
       "      <th>Sa¡da para Entrega</th>\n",
       "      <th>Data Entrega Real</th>\n",
       "      <th>Qtd DevoluÆo</th>\n",
       "      <th>Mot. DevoluÆo</th>\n",
       "      <th>Dias Para Entrega</th>\n",
       "      <th>Status</th>\n",
       "    </tr>\n",
       "  </thead>\n",
       "  <tbody>\n",
       "    <tr>\n",
       "      <th>0</th>\n",
       "      <td>A3</td>\n",
       "      <td>WALMART-FELIPE SILVA</td>\n",
       "      <td>27/01/2019</td>\n",
       "      <td>06/02/2019</td>\n",
       "      <td>SP</td>\n",
       "      <td>3</td>\n",
       "      <td>139,5</td>\n",
       "      <td>29/01/2019</td>\n",
       "      <td>03/02/2019</td>\n",
       "      <td>0</td>\n",
       "      <td>S/ Devolu.</td>\n",
       "      <td>7</td>\n",
       "      <td>No Prazo</td>\n",
       "    </tr>\n",
       "    <tr>\n",
       "      <th>1</th>\n",
       "      <td>A4</td>\n",
       "      <td>MAGAZINE LUIZA-TéLIO SILVEIRA</td>\n",
       "      <td>28/01/2019</td>\n",
       "      <td>07/02/2019</td>\n",
       "      <td>RJ</td>\n",
       "      <td>4</td>\n",
       "      <td>134,4</td>\n",
       "      <td>09/02/2019</td>\n",
       "      <td>12/02/2019</td>\n",
       "      <td>0</td>\n",
       "      <td>S/ Devolu.</td>\n",
       "      <td>15</td>\n",
       "      <td>Atrasado</td>\n",
       "    </tr>\n",
       "    <tr>\n",
       "      <th>2</th>\n",
       "      <td>A7</td>\n",
       "      <td>MAGAZINE LUIZA-VALDIR ESPINOSA</td>\n",
       "      <td>04/02/2019</td>\n",
       "      <td>14/02/2019</td>\n",
       "      <td>SP</td>\n",
       "      <td>5</td>\n",
       "      <td>79,5</td>\n",
       "      <td>07/02/2019</td>\n",
       "      <td>14/02/2019</td>\n",
       "      <td>1</td>\n",
       "      <td>Produto Errado</td>\n",
       "      <td>10</td>\n",
       "      <td>No Prazo</td>\n",
       "    </tr>\n",
       "    <tr>\n",
       "      <th>3</th>\n",
       "      <td>A12</td>\n",
       "      <td>MAGAZINE LUIZA-MARCOS LEROY</td>\n",
       "      <td>18/02/2019</td>\n",
       "      <td>28/02/2019</td>\n",
       "      <td>SP</td>\n",
       "      <td>20</td>\n",
       "      <td>326,0</td>\n",
       "      <td>23/02/2019</td>\n",
       "      <td>25/02/2019</td>\n",
       "      <td>11</td>\n",
       "      <td>Produto Errado</td>\n",
       "      <td>7</td>\n",
       "      <td>No Prazo</td>\n",
       "    </tr>\n",
       "    <tr>\n",
       "      <th>4</th>\n",
       "      <td>A15</td>\n",
       "      <td>WALMART-LUIZ PARDAL</td>\n",
       "      <td>21/02/2019</td>\n",
       "      <td>03/03/2019</td>\n",
       "      <td>RJ</td>\n",
       "      <td>12</td>\n",
       "      <td>597,6</td>\n",
       "      <td>28/02/2019</td>\n",
       "      <td>07/03/2019</td>\n",
       "      <td>0</td>\n",
       "      <td>S/ Devolu.</td>\n",
       "      <td>14</td>\n",
       "      <td>Atrasado</td>\n",
       "    </tr>\n",
       "  </tbody>\n",
       "</table>\n",
       "</div>"
      ],
      "text/plain": [
       "  N§ Pedido             Cliente - Motorista Data EmissÆo Pedido  \\\n",
       "0        A3            WALMART-FELIPE SILVA          27/01/2019   \n",
       "1        A4   MAGAZINE LUIZA-TéLIO SILVEIRA          28/01/2019   \n",
       "2        A7  MAGAZINE LUIZA-VALDIR ESPINOSA          04/02/2019   \n",
       "3       A12     MAGAZINE LUIZA-MARCOS LEROY          18/02/2019   \n",
       "4       A15             WALMART-LUIZ PARDAL          21/02/2019   \n",
       "\n",
       "  Data Entrega Prevista Destino  Itens R$ Faturados Sa¡da para Entrega  \\\n",
       "0            06/02/2019      SP      3        139,5         29/01/2019   \n",
       "1            07/02/2019      RJ      4        134,4         09/02/2019   \n",
       "2            14/02/2019      SP      5         79,5         07/02/2019   \n",
       "3            28/02/2019      SP     20        326,0         23/02/2019   \n",
       "4            03/03/2019      RJ     12        597,6         28/02/2019   \n",
       "\n",
       "  Data Entrega Real   Qtd DevoluÆo  Mot. DevoluÆo  Dias Para Entrega  \\\n",
       "0        03/02/2019               0      S/ Devolu.                  7   \n",
       "1        12/02/2019               0      S/ Devolu.                 15   \n",
       "2        14/02/2019               1  Produto Errado                 10   \n",
       "3        25/02/2019              11  Produto Errado                  7   \n",
       "4        07/03/2019               0      S/ Devolu.                 14   \n",
       "\n",
       "     Status  \n",
       "0  No Prazo  \n",
       "1  Atrasado  \n",
       "2  No Prazo  \n",
       "3  No Prazo  \n",
       "4  Atrasado  "
      ]
     },
     "execution_count": 11,
     "metadata": {},
     "output_type": "execute_result"
    }
   ],
   "source": [
    "df.head(5)"
   ]
  },
  {
   "cell_type": "code",
   "execution_count": 12,
   "metadata": {},
   "outputs": [],
   "source": [
    "#Duplicata Original\n",
    "df_or = df"
   ]
  },
  {
   "cell_type": "markdown",
   "metadata": {},
   "source": [
    "## FIRST DATA ANALYSYS IN THE DATAFRAME"
   ]
  },
  {
   "cell_type": "code",
   "execution_count": 13,
   "metadata": {},
   "outputs": [
    {
     "name": "stdout",
     "output_type": "stream",
     "text": [
      "<class 'pandas.core.frame.DataFrame'>\n",
      "RangeIndex: 4282 entries, 0 to 4281\n",
      "Data columns (total 13 columns):\n",
      " #   Column                 Non-Null Count  Dtype \n",
      "---  ------                 --------------  ----- \n",
      " 0   N§ Pedido              4282 non-null   object\n",
      " 1   Cliente - Motorista    4282 non-null   object\n",
      " 2   Data EmissÆo Pedido    4282 non-null   object\n",
      " 3   Data Entrega Prevista  4282 non-null   object\n",
      " 4   Destino                4282 non-null   object\n",
      " 5   Itens                  4282 non-null   int64 \n",
      " 6   R$ Faturados           4282 non-null   object\n",
      " 7   Sa¡da para Entrega     4282 non-null   object\n",
      " 8   Data Entrega Real      4282 non-null   object\n",
      " 9    Qtd DevoluÆo         4282 non-null   int64 \n",
      " 10  Mot. DevoluÆo         4282 non-null   object\n",
      " 11  Dias Para Entrega      4282 non-null   int64 \n",
      " 12  Status                 4282 non-null   object\n",
      "dtypes: int64(3), object(10)\n",
      "memory usage: 435.0+ KB\n"
     ]
    }
   ],
   "source": [
    "df.info()"
   ]
  },
  {
   "cell_type": "code",
   "execution_count": 14,
   "metadata": {},
   "outputs": [],
   "source": [
    "#Separando a Coluna por Delimitador\n",
    "df[['Cliente', 'Motorista']] = df['Cliente - Motorista'].str.split('-', expand=True)\n",
    "df.drop('Cliente - Motorista', axis=1, inplace=True)\n"
   ]
  },
  {
   "cell_type": "code",
   "execution_count": 15,
   "metadata": {},
   "outputs": [],
   "source": [
    "#STRIP limpando todas as colunas STR\n",
    "df = df.apply(lambda x: x.str.strip() if x.dtype == \"object\" else x )"
   ]
  },
  {
   "cell_type": "code",
   "execution_count": 16,
   "metadata": {},
   "outputs": [],
   "source": [
    "#Aplicando o formato correto nas colunas de data\n",
    "colunas_datas = [\n",
    "    'Data Entrega Real',\n",
    "    'Data EmissÆo Pedido',\n",
    "    'Data Entrega Prevista',\n",
    "    'Sa¡da para Entrega'\n",
    "]\n",
    "\n",
    "for coluna in colunas_datas:\n",
    "    df[coluna] = pd.to_datetime(df[coluna], errors='coerce', dayfirst=True)"
   ]
  },
  {
   "cell_type": "code",
   "execution_count": 17,
   "metadata": {},
   "outputs": [
    {
     "name": "stdout",
     "output_type": "stream",
     "text": [
      "<class 'pandas.core.frame.DataFrame'>\n",
      "RangeIndex: 4282 entries, 0 to 4281\n",
      "Data columns (total 14 columns):\n",
      " #   Column                 Non-Null Count  Dtype         \n",
      "---  ------                 --------------  -----         \n",
      " 0   N§ Pedido              4282 non-null   object        \n",
      " 1   Data EmissÆo Pedido    4282 non-null   datetime64[ns]\n",
      " 2   Data Entrega Prevista  4282 non-null   datetime64[ns]\n",
      " 3   Destino                4282 non-null   object        \n",
      " 4   Itens                  4282 non-null   int64         \n",
      " 5   R$ Faturados           4282 non-null   object        \n",
      " 6   Sa¡da para Entrega     4282 non-null   datetime64[ns]\n",
      " 7   Data Entrega Real      4282 non-null   datetime64[ns]\n",
      " 8    Qtd DevoluÆo         4282 non-null   int64         \n",
      " 9   Mot. DevoluÆo         4282 non-null   object        \n",
      " 10  Dias Para Entrega      4282 non-null   int64         \n",
      " 11  Status                 4282 non-null   object        \n",
      " 12  Cliente                4282 non-null   object        \n",
      " 13  Motorista              4282 non-null   object        \n",
      "dtypes: datetime64[ns](4), int64(3), object(7)\n",
      "memory usage: 468.5+ KB\n"
     ]
    }
   ],
   "source": [
    "#Informações do DataFrame\n",
    "df.info()"
   ]
  },
  {
   "cell_type": "code",
   "execution_count": 18,
   "metadata": {},
   "outputs": [
    {
     "data": {
      "text/html": [
       "<div>\n",
       "<style scoped>\n",
       "    .dataframe tbody tr th:only-of-type {\n",
       "        vertical-align: middle;\n",
       "    }\n",
       "\n",
       "    .dataframe tbody tr th {\n",
       "        vertical-align: top;\n",
       "    }\n",
       "\n",
       "    .dataframe thead th {\n",
       "        text-align: right;\n",
       "    }\n",
       "</style>\n",
       "<table border=\"1\" class=\"dataframe\">\n",
       "  <thead>\n",
       "    <tr style=\"text-align: right;\">\n",
       "      <th></th>\n",
       "      <th>N§ Pedido</th>\n",
       "      <th>Data EmissÆo Pedido</th>\n",
       "      <th>Data Entrega Prevista</th>\n",
       "      <th>Destino</th>\n",
       "      <th>Itens</th>\n",
       "      <th>R$ Faturados</th>\n",
       "      <th>Sa¡da para Entrega</th>\n",
       "      <th>Data Entrega Real</th>\n",
       "      <th>Qtd DevoluÆo</th>\n",
       "      <th>Mot. DevoluÆo</th>\n",
       "      <th>Dias Para Entrega</th>\n",
       "      <th>Status</th>\n",
       "      <th>Cliente</th>\n",
       "      <th>Motorista</th>\n",
       "    </tr>\n",
       "  </thead>\n",
       "  <tbody>\n",
       "    <tr>\n",
       "      <th>0</th>\n",
       "      <td>A3</td>\n",
       "      <td>2019-01-27</td>\n",
       "      <td>2019-02-06</td>\n",
       "      <td>SP</td>\n",
       "      <td>3</td>\n",
       "      <td>139,5</td>\n",
       "      <td>2019-01-29</td>\n",
       "      <td>2019-02-03</td>\n",
       "      <td>0</td>\n",
       "      <td>S/ Devolu.</td>\n",
       "      <td>7</td>\n",
       "      <td>No Prazo</td>\n",
       "      <td>WALMART</td>\n",
       "      <td>FELIPE SILVA</td>\n",
       "    </tr>\n",
       "    <tr>\n",
       "      <th>1</th>\n",
       "      <td>A4</td>\n",
       "      <td>2019-01-28</td>\n",
       "      <td>2019-02-07</td>\n",
       "      <td>RJ</td>\n",
       "      <td>4</td>\n",
       "      <td>134,4</td>\n",
       "      <td>2019-02-09</td>\n",
       "      <td>2019-02-12</td>\n",
       "      <td>0</td>\n",
       "      <td>S/ Devolu.</td>\n",
       "      <td>15</td>\n",
       "      <td>Atrasado</td>\n",
       "      <td>MAGAZINE LUIZA</td>\n",
       "      <td>TéLIO SILVEIRA</td>\n",
       "    </tr>\n",
       "    <tr>\n",
       "      <th>2</th>\n",
       "      <td>A7</td>\n",
       "      <td>2019-02-04</td>\n",
       "      <td>2019-02-14</td>\n",
       "      <td>SP</td>\n",
       "      <td>5</td>\n",
       "      <td>79,5</td>\n",
       "      <td>2019-02-07</td>\n",
       "      <td>2019-02-14</td>\n",
       "      <td>1</td>\n",
       "      <td>Produto Errado</td>\n",
       "      <td>10</td>\n",
       "      <td>No Prazo</td>\n",
       "      <td>MAGAZINE LUIZA</td>\n",
       "      <td>VALDIR ESPINOSA</td>\n",
       "    </tr>\n",
       "    <tr>\n",
       "      <th>3</th>\n",
       "      <td>A12</td>\n",
       "      <td>2019-02-18</td>\n",
       "      <td>2019-02-28</td>\n",
       "      <td>SP</td>\n",
       "      <td>20</td>\n",
       "      <td>326,0</td>\n",
       "      <td>2019-02-23</td>\n",
       "      <td>2019-02-25</td>\n",
       "      <td>11</td>\n",
       "      <td>Produto Errado</td>\n",
       "      <td>7</td>\n",
       "      <td>No Prazo</td>\n",
       "      <td>MAGAZINE LUIZA</td>\n",
       "      <td>MARCOS LEROY</td>\n",
       "    </tr>\n",
       "    <tr>\n",
       "      <th>4</th>\n",
       "      <td>A15</td>\n",
       "      <td>2019-02-21</td>\n",
       "      <td>2019-03-03</td>\n",
       "      <td>RJ</td>\n",
       "      <td>12</td>\n",
       "      <td>597,6</td>\n",
       "      <td>2019-02-28</td>\n",
       "      <td>2019-03-07</td>\n",
       "      <td>0</td>\n",
       "      <td>S/ Devolu.</td>\n",
       "      <td>14</td>\n",
       "      <td>Atrasado</td>\n",
       "      <td>WALMART</td>\n",
       "      <td>LUIZ PARDAL</td>\n",
       "    </tr>\n",
       "    <tr>\n",
       "      <th>...</th>\n",
       "      <td>...</td>\n",
       "      <td>...</td>\n",
       "      <td>...</td>\n",
       "      <td>...</td>\n",
       "      <td>...</td>\n",
       "      <td>...</td>\n",
       "      <td>...</td>\n",
       "      <td>...</td>\n",
       "      <td>...</td>\n",
       "      <td>...</td>\n",
       "      <td>...</td>\n",
       "      <td>...</td>\n",
       "      <td>...</td>\n",
       "      <td>...</td>\n",
       "    </tr>\n",
       "    <tr>\n",
       "      <th>4277</th>\n",
       "      <td>A9675</td>\n",
       "      <td>2021-11-27</td>\n",
       "      <td>2021-12-07</td>\n",
       "      <td>RJ</td>\n",
       "      <td>16</td>\n",
       "      <td>763,2</td>\n",
       "      <td>2021-12-12</td>\n",
       "      <td>2021-12-15</td>\n",
       "      <td>1</td>\n",
       "      <td>Produto Errado</td>\n",
       "      <td>18</td>\n",
       "      <td>Atrasado</td>\n",
       "      <td>MAGAZINE LUIZA</td>\n",
       "      <td>VALDIR ESPINOSA</td>\n",
       "    </tr>\n",
       "    <tr>\n",
       "      <th>4278</th>\n",
       "      <td>A9676</td>\n",
       "      <td>2021-11-28</td>\n",
       "      <td>2021-12-08</td>\n",
       "      <td>SP</td>\n",
       "      <td>14</td>\n",
       "      <td>226,8</td>\n",
       "      <td>2021-12-10</td>\n",
       "      <td>2021-12-12</td>\n",
       "      <td>1</td>\n",
       "      <td>Produto Errado</td>\n",
       "      <td>14</td>\n",
       "      <td>Atrasado</td>\n",
       "      <td>WALMART</td>\n",
       "      <td>LUIZ PARDAL</td>\n",
       "    </tr>\n",
       "    <tr>\n",
       "      <th>4279</th>\n",
       "      <td>A9680</td>\n",
       "      <td>2021-12-02</td>\n",
       "      <td>2021-12-12</td>\n",
       "      <td>SP</td>\n",
       "      <td>17</td>\n",
       "      <td>821,1</td>\n",
       "      <td>2021-12-19</td>\n",
       "      <td>2021-12-20</td>\n",
       "      <td>2</td>\n",
       "      <td>Danificado</td>\n",
       "      <td>18</td>\n",
       "      <td>Atrasado</td>\n",
       "      <td>CASA E VIDEO</td>\n",
       "      <td>TéLIO SILVEIRA</td>\n",
       "    </tr>\n",
       "    <tr>\n",
       "      <th>4280</th>\n",
       "      <td>A9681</td>\n",
       "      <td>2021-12-03</td>\n",
       "      <td>2021-12-13</td>\n",
       "      <td>SP</td>\n",
       "      <td>1</td>\n",
       "      <td>49,8</td>\n",
       "      <td>2021-12-08</td>\n",
       "      <td>2021-12-17</td>\n",
       "      <td>0</td>\n",
       "      <td>S/ Devolu.</td>\n",
       "      <td>14</td>\n",
       "      <td>Atrasado</td>\n",
       "      <td>RICARDO ELETRO</td>\n",
       "      <td>MARCOS LEROY</td>\n",
       "    </tr>\n",
       "    <tr>\n",
       "      <th>4281</th>\n",
       "      <td>A9683</td>\n",
       "      <td>2021-12-06</td>\n",
       "      <td>2021-12-16</td>\n",
       "      <td>BH</td>\n",
       "      <td>15</td>\n",
       "      <td>715,5</td>\n",
       "      <td>2021-12-08</td>\n",
       "      <td>2021-12-17</td>\n",
       "      <td>2</td>\n",
       "      <td>Danificado</td>\n",
       "      <td>11</td>\n",
       "      <td>Atrasado</td>\n",
       "      <td>AMERICANAS</td>\n",
       "      <td>FELIPE SILVA</td>\n",
       "    </tr>\n",
       "  </tbody>\n",
       "</table>\n",
       "<p>4282 rows × 14 columns</p>\n",
       "</div>"
      ],
      "text/plain": [
       "     N§ Pedido Data EmissÆo Pedido Data Entrega Prevista Destino  Itens  \\\n",
       "0           A3          2019-01-27            2019-02-06      SP      3   \n",
       "1           A4          2019-01-28            2019-02-07      RJ      4   \n",
       "2           A7          2019-02-04            2019-02-14      SP      5   \n",
       "3          A12          2019-02-18            2019-02-28      SP     20   \n",
       "4          A15          2019-02-21            2019-03-03      RJ     12   \n",
       "...        ...                 ...                   ...     ...    ...   \n",
       "4277     A9675          2021-11-27            2021-12-07      RJ     16   \n",
       "4278     A9676          2021-11-28            2021-12-08      SP     14   \n",
       "4279     A9680          2021-12-02            2021-12-12      SP     17   \n",
       "4280     A9681          2021-12-03            2021-12-13      SP      1   \n",
       "4281     A9683          2021-12-06            2021-12-16      BH     15   \n",
       "\n",
       "     R$ Faturados Sa¡da para Entrega Data Entrega Real   Qtd DevoluÆo  \\\n",
       "0           139,5         2019-01-29        2019-02-03               0   \n",
       "1           134,4         2019-02-09        2019-02-12               0   \n",
       "2            79,5         2019-02-07        2019-02-14               1   \n",
       "3           326,0         2019-02-23        2019-02-25              11   \n",
       "4           597,6         2019-02-28        2019-03-07               0   \n",
       "...           ...                ...               ...             ...   \n",
       "4277        763,2         2021-12-12        2021-12-15               1   \n",
       "4278        226,8         2021-12-10        2021-12-12               1   \n",
       "4279        821,1         2021-12-19        2021-12-20               2   \n",
       "4280         49,8         2021-12-08        2021-12-17               0   \n",
       "4281        715,5         2021-12-08        2021-12-17               2   \n",
       "\n",
       "      Mot. DevoluÆo  Dias Para Entrega    Status         Cliente  \\\n",
       "0         S/ Devolu.                  7  No Prazo         WALMART   \n",
       "1         S/ Devolu.                 15  Atrasado  MAGAZINE LUIZA   \n",
       "2     Produto Errado                 10  No Prazo  MAGAZINE LUIZA   \n",
       "3     Produto Errado                  7  No Prazo  MAGAZINE LUIZA   \n",
       "4         S/ Devolu.                 14  Atrasado         WALMART   \n",
       "...              ...                ...       ...             ...   \n",
       "4277  Produto Errado                 18  Atrasado  MAGAZINE LUIZA   \n",
       "4278  Produto Errado                 14  Atrasado         WALMART   \n",
       "4279      Danificado                 18  Atrasado    CASA E VIDEO   \n",
       "4280      S/ Devolu.                 14  Atrasado  RICARDO ELETRO   \n",
       "4281      Danificado                 11  Atrasado      AMERICANAS   \n",
       "\n",
       "            Motorista  \n",
       "0        FELIPE SILVA  \n",
       "1      TéLIO SILVEIRA  \n",
       "2     VALDIR ESPINOSA  \n",
       "3        MARCOS LEROY  \n",
       "4         LUIZ PARDAL  \n",
       "...               ...  \n",
       "4277  VALDIR ESPINOSA  \n",
       "4278      LUIZ PARDAL  \n",
       "4279   TéLIO SILVEIRA  \n",
       "4280     MARCOS LEROY  \n",
       "4281     FELIPE SILVA  \n",
       "\n",
       "[4282 rows x 14 columns]"
      ]
     },
     "metadata": {},
     "output_type": "display_data"
    }
   ],
   "source": [
    "#Exibindo o DataFrame\n",
    "display(df)"
   ]
  },
  {
   "cell_type": "markdown",
   "metadata": {},
   "source": [
    "## Analyse the variables"
   ]
  },
  {
   "cell_type": "code",
   "execution_count": 19,
   "metadata": {},
   "outputs": [
    {
     "data": {
      "text/plain": [
       "N§ Pedido                4282\n",
       "Data EmissÆo Pedido       836\n",
       "Data Entrega Prevista     836\n",
       "Destino                     3\n",
       "Itens                      20\n",
       "R$ Faturados              709\n",
       "Sa¡da para Entrega        830\n",
       "Data Entrega Real         832\n",
       " Qtd DevoluÆo             20\n",
       "Mot. DevoluÆo              4\n",
       "Dias Para Entrega          18\n",
       "Status                      2\n",
       "Cliente                     6\n",
       "Motorista                   6\n",
       "dtype: int64"
      ]
     },
     "execution_count": 19,
     "metadata": {},
     "output_type": "execute_result"
    }
   ],
   "source": [
    "#Quantidade distinta\n",
    "df.nunique()"
   ]
  },
  {
   "cell_type": "code",
   "execution_count": 20,
   "metadata": {},
   "outputs": [
    {
     "name": "stdout",
     "output_type": "stream",
     "text": [
      "N§ Pedido\n",
      "A3       1\n",
      "A6605    1\n",
      "A6577    1\n",
      "A6584    1\n",
      "A6585    1\n",
      "        ..\n",
      "A3292    1\n",
      "A3294    1\n",
      "A3297    1\n",
      "A3299    1\n",
      "A9683    1\n",
      "Name: count, Length: 4282, dtype: int64 SUM 4282 \n",
      "\n",
      "\n",
      "Data EmissÆo Pedido\n",
      "2020-08-23    26\n",
      "2020-06-24    25\n",
      "2020-08-17    23\n",
      "2020-09-23    22\n",
      "2020-07-21    22\n",
      "              ..\n",
      "2020-01-01     1\n",
      "2019-12-31     1\n",
      "2019-12-30     1\n",
      "2019-12-24     1\n",
      "2021-12-06     1\n",
      "Name: count, Length: 836, dtype: int64 SUM 4282 \n",
      "\n",
      "\n",
      "Data Entrega Prevista\n",
      "2020-09-02    26\n",
      "2020-07-04    25\n",
      "2020-08-27    23\n",
      "2020-10-03    22\n",
      "2020-07-31    22\n",
      "              ..\n",
      "2020-01-11     1\n",
      "2020-01-10     1\n",
      "2020-01-09     1\n",
      "2020-01-03     1\n",
      "2021-12-16     1\n",
      "Name: count, Length: 836, dtype: int64 SUM 4282 \n",
      "\n",
      "\n",
      "Destino\n",
      "BH    1496\n",
      "SP    1412\n",
      "RJ    1374\n",
      "Name: count, dtype: int64 SUM 4282 \n",
      "\n",
      "\n",
      "Itens\n",
      "7     240\n",
      "11    236\n",
      "18    234\n",
      "3     231\n",
      "2     230\n",
      "15    230\n",
      "1     229\n",
      "17    221\n",
      "12    219\n",
      "20    218\n",
      "14    216\n",
      "13    209\n",
      "16    209\n",
      "8     206\n",
      "9     203\n",
      "6     196\n",
      "4     192\n",
      "5     192\n",
      "19    188\n",
      "10    183\n",
      "Name: count, dtype: int64 SUM 4282 \n",
      "\n",
      "\n",
      "R$ Faturados\n",
      "96,6     21\n",
      "98,4     20\n",
      "218,4    20\n",
      "198,0    19\n",
      "304,2    18\n",
      "         ..\n",
      "315       1\n",
      "570       1\n",
      "635,7     1\n",
      "157       1\n",
      "164       1\n",
      "Name: count, Length: 709, dtype: int64 SUM 4282 \n",
      "\n",
      "\n",
      "Sa¡da para Entrega\n",
      "2020-11-24    28\n",
      "2020-08-12    25\n",
      "2020-08-17    24\n",
      "2020-08-07    22\n",
      "2020-11-10    22\n",
      "              ..\n",
      "2019-09-22     1\n",
      "2020-05-07     1\n",
      "2019-09-19     1\n",
      "2019-09-13     1\n",
      "2019-01-29     1\n",
      "Name: count, Length: 830, dtype: int64 SUM 4282 \n",
      "\n",
      "\n",
      "Data Entrega Real\n",
      "2020-07-10    25\n",
      "2020-11-14    22\n",
      "2020-12-04    22\n",
      "2020-09-13    22\n",
      "2020-10-08    21\n",
      "              ..\n",
      "2019-10-30     1\n",
      "2019-10-31     1\n",
      "2019-10-23     1\n",
      "2019-10-24     1\n",
      "2019-02-03     1\n",
      "Name: count, Length: 832, dtype: int64 SUM 4282 \n",
      "\n",
      "\n",
      " Qtd DevoluÆo\n",
      "1     1321\n",
      "0     1060\n",
      "2      897\n",
      "3      563\n",
      "4      197\n",
      "5       36\n",
      "6       28\n",
      "10      26\n",
      "7       25\n",
      "8       21\n",
      "14      18\n",
      "11      17\n",
      "9       16\n",
      "12      14\n",
      "16      14\n",
      "13       9\n",
      "15       8\n",
      "19       5\n",
      "17       4\n",
      "18       3\n",
      "Name: count, dtype: int64 SUM 4282 \n",
      "\n",
      "\n",
      "Mot. DevoluÆo\n",
      "Produto Errado    1562\n",
      "Danificado        1339\n",
      "S/ Devolu.        1060\n",
      "Arrependimento     321\n",
      "Name: count, dtype: int64 SUM 4282 \n",
      "\n",
      "\n",
      "Dias Para Entrega\n",
      "14    424\n",
      "15    395\n",
      "13    366\n",
      "12    357\n",
      "11    346\n",
      "16    323\n",
      "10    321\n",
      "17    298\n",
      "9     280\n",
      "18    274\n",
      "8     270\n",
      "19    186\n",
      "20    166\n",
      "7      84\n",
      "6      74\n",
      "5      69\n",
      "4      40\n",
      "3       9\n",
      "Name: count, dtype: int64 SUM 4282 \n",
      "\n",
      "\n",
      "Status\n",
      "Atrasado    3135\n",
      "No Prazo    1147\n",
      "Name: count, dtype: int64 SUM 4282 \n",
      "\n",
      "\n",
      "Cliente\n",
      "WALMART           1157\n",
      "CASAS BAHIA       1016\n",
      "MAGAZINE LUIZA     809\n",
      "AMERICANAS         591\n",
      "CASA E VIDEO       385\n",
      "RICARDO ELETRO     324\n",
      "Name: count, dtype: int64 SUM 4282 \n",
      "\n",
      "\n",
      "Motorista\n",
      "MARCOS LEROY       753\n",
      "LUIZ PARDAL        750\n",
      "VALDIR ESPINOSA    732\n",
      "TéLIO SILVEIRA     698\n",
      "JOÇO GOMES         685\n",
      "FELIPE SILVA       664\n",
      "Name: count, dtype: int64 SUM 4282 \n",
      "\n",
      "\n"
     ]
    }
   ],
   "source": [
    "#Quantidade distinta de elementos em cada lista\n",
    "for i in df.columns:\n",
    "    print(df[i].value_counts(),'SUM',df[i].value_counts().sum(),\"\\n\\n\")\n",
    "    "
   ]
  },
  {
   "cell_type": "code",
   "execution_count": 21,
   "metadata": {},
   "outputs": [
    {
     "data": {
      "text/plain": [
       "N§ Pedido                0\n",
       "Data EmissÆo Pedido      0\n",
       "Data Entrega Prevista    0\n",
       "Destino                  0\n",
       "Itens                    0\n",
       "R$ Faturados             0\n",
       "Sa¡da para Entrega       0\n",
       "Data Entrega Real        0\n",
       " Qtd DevoluÆo           0\n",
       "Mot. DevoluÆo           0\n",
       "Dias Para Entrega        0\n",
       "Status                   0\n",
       "Cliente                  0\n",
       "Motorista                0\n",
       "dtype: int64"
      ]
     },
     "execution_count": 21,
     "metadata": {},
     "output_type": "execute_result"
    }
   ],
   "source": [
    "#Valores Nulos\n",
    "df.isnull().sum()"
   ]
  },
  {
   "cell_type": "code",
   "execution_count": 22,
   "metadata": {},
   "outputs": [
    {
     "data": {
      "text/plain": [
       "Status\n",
       "Atrasado    73.213452\n",
       "No Prazo    26.786548\n",
       "Name: count, dtype: float64"
      ]
     },
     "execution_count": 22,
     "metadata": {},
     "output_type": "execute_result"
    }
   ],
   "source": [
    "#Verificando Porcentagens\n",
    "df['Status'].value_counts()/ df.shape[0]*100"
   ]
  },
  {
   "cell_type": "code",
   "execution_count": 31,
   "metadata": {},
   "outputs": [
    {
     "data": {
      "text/html": [
       "<div>\n",
       "<style scoped>\n",
       "    .dataframe tbody tr th:only-of-type {\n",
       "        vertical-align: middle;\n",
       "    }\n",
       "\n",
       "    .dataframe tbody tr th {\n",
       "        vertical-align: top;\n",
       "    }\n",
       "\n",
       "    .dataframe thead th {\n",
       "        text-align: right;\n",
       "    }\n",
       "</style>\n",
       "<table border=\"1\" class=\"dataframe\">\n",
       "  <thead>\n",
       "    <tr style=\"text-align: right;\">\n",
       "      <th></th>\n",
       "      <th>Data EmissÆo Pedido</th>\n",
       "      <th>Data Entrega Prevista</th>\n",
       "      <th>Itens</th>\n",
       "      <th>Sa¡da para Entrega</th>\n",
       "      <th>Data Entrega Real</th>\n",
       "      <th>Qtd DevoluÆo</th>\n",
       "      <th>Dias Para Entrega</th>\n",
       "    </tr>\n",
       "  </thead>\n",
       "  <tbody>\n",
       "    <tr>\n",
       "      <th>count</th>\n",
       "      <td>4282</td>\n",
       "      <td>4282</td>\n",
       "      <td>4282.000000</td>\n",
       "      <td>4282</td>\n",
       "      <td>4282</td>\n",
       "      <td>4282.000000</td>\n",
       "      <td>4282.000000</td>\n",
       "    </tr>\n",
       "    <tr>\n",
       "      <th>mean</th>\n",
       "      <td>2020-10-04 23:56:38.225128704</td>\n",
       "      <td>2020-10-14 23:56:38.225128704</td>\n",
       "      <td>10.492994</td>\n",
       "      <td>2020-10-11 14:13:10.284913664</td>\n",
       "      <td>2020-10-18 02:50:29.985987584</td>\n",
       "      <td>1.861747</td>\n",
       "      <td>13.120738</td>\n",
       "    </tr>\n",
       "    <tr>\n",
       "      <th>min</th>\n",
       "      <td>2019-01-27 00:00:00</td>\n",
       "      <td>2019-02-06 00:00:00</td>\n",
       "      <td>1.000000</td>\n",
       "      <td>2019-01-29 00:00:00</td>\n",
       "      <td>2019-02-03 00:00:00</td>\n",
       "      <td>0.000000</td>\n",
       "      <td>3.000000</td>\n",
       "    </tr>\n",
       "    <tr>\n",
       "      <th>25%</th>\n",
       "      <td>2020-07-21 00:00:00</td>\n",
       "      <td>2020-07-31 00:00:00</td>\n",
       "      <td>5.000000</td>\n",
       "      <td>2020-07-27 00:00:00</td>\n",
       "      <td>2020-08-03 00:00:00</td>\n",
       "      <td>1.000000</td>\n",
       "      <td>10.000000</td>\n",
       "    </tr>\n",
       "    <tr>\n",
       "      <th>50%</th>\n",
       "      <td>2020-10-02 00:00:00</td>\n",
       "      <td>2020-10-12 00:00:00</td>\n",
       "      <td>11.000000</td>\n",
       "      <td>2020-10-08 00:00:00</td>\n",
       "      <td>2020-10-15 00:00:00</td>\n",
       "      <td>1.000000</td>\n",
       "      <td>13.000000</td>\n",
       "    </tr>\n",
       "    <tr>\n",
       "      <th>75%</th>\n",
       "      <td>2020-12-15 00:00:00</td>\n",
       "      <td>2020-12-25 00:00:00</td>\n",
       "      <td>15.000000</td>\n",
       "      <td>2020-12-24 00:00:00</td>\n",
       "      <td>2020-12-31 00:00:00</td>\n",
       "      <td>2.000000</td>\n",
       "      <td>16.000000</td>\n",
       "    </tr>\n",
       "    <tr>\n",
       "      <th>max</th>\n",
       "      <td>2021-12-06 00:00:00</td>\n",
       "      <td>2021-12-16 00:00:00</td>\n",
       "      <td>20.000000</td>\n",
       "      <td>2021-12-19 00:00:00</td>\n",
       "      <td>2021-12-20 00:00:00</td>\n",
       "      <td>19.000000</td>\n",
       "      <td>20.000000</td>\n",
       "    </tr>\n",
       "    <tr>\n",
       "      <th>std</th>\n",
       "      <td>NaN</td>\n",
       "      <td>NaN</td>\n",
       "      <td>5.802526</td>\n",
       "      <td>NaN</td>\n",
       "      <td>NaN</td>\n",
       "      <td>2.421298</td>\n",
       "      <td>3.816712</td>\n",
       "    </tr>\n",
       "  </tbody>\n",
       "</table>\n",
       "</div>"
      ],
      "text/plain": [
       "                 Data EmissÆo Pedido          Data Entrega Prevista  \\\n",
       "count                           4282                           4282   \n",
       "mean   2020-10-04 23:56:38.225128704  2020-10-14 23:56:38.225128704   \n",
       "min              2019-01-27 00:00:00            2019-02-06 00:00:00   \n",
       "25%              2020-07-21 00:00:00            2020-07-31 00:00:00   \n",
       "50%              2020-10-02 00:00:00            2020-10-12 00:00:00   \n",
       "75%              2020-12-15 00:00:00            2020-12-25 00:00:00   \n",
       "max              2021-12-06 00:00:00            2021-12-16 00:00:00   \n",
       "std                              NaN                            NaN   \n",
       "\n",
       "             Itens             Sa¡da para Entrega  \\\n",
       "count  4282.000000                           4282   \n",
       "mean     10.492994  2020-10-11 14:13:10.284913664   \n",
       "min       1.000000            2019-01-29 00:00:00   \n",
       "25%       5.000000            2020-07-27 00:00:00   \n",
       "50%      11.000000            2020-10-08 00:00:00   \n",
       "75%      15.000000            2020-12-24 00:00:00   \n",
       "max      20.000000            2021-12-19 00:00:00   \n",
       "std       5.802526                            NaN   \n",
       "\n",
       "                   Data Entrega Real   Qtd DevoluÆo  Dias Para Entrega  \n",
       "count                           4282     4282.000000        4282.000000  \n",
       "mean   2020-10-18 02:50:29.985987584        1.861747          13.120738  \n",
       "min              2019-02-03 00:00:00        0.000000           3.000000  \n",
       "25%              2020-08-03 00:00:00        1.000000          10.000000  \n",
       "50%              2020-10-15 00:00:00        1.000000          13.000000  \n",
       "75%              2020-12-31 00:00:00        2.000000          16.000000  \n",
       "max              2021-12-20 00:00:00       19.000000          20.000000  \n",
       "std                              NaN        2.421298           3.816712  "
      ]
     },
     "execution_count": 31,
     "metadata": {},
     "output_type": "execute_result"
    }
   ],
   "source": [
    "#Descrevendo a Variável Estatísticamente\n",
    "df.describe()"
   ]
  },
  {
   "cell_type": "markdown",
   "metadata": {},
   "source": [
    "# Analyzes and Visualization"
   ]
  },
  {
   "cell_type": "code",
   "execution_count": 24,
   "metadata": {},
   "outputs": [],
   "source": [
    "#Bilbiotecas\n",
    "import matplotlib.pyplot as plt\n",
    "import seaborn as sns\n",
    "import plotly.express as px"
   ]
  },
  {
   "cell_type": "code",
   "execution_count": 25,
   "metadata": {},
   "outputs": [
    {
     "name": "stdout",
     "output_type": "stream",
     "text": [
      "     Status  Count\n",
      "0  Atrasado   3135\n",
      "1  No Prazo   1147\n"
     ]
    }
   ],
   "source": [
    "# Agrupar os dados por 'Status' e contar o número de ocorrências\n",
    "df_aggregated = df.groupby('Status', as_index=True).size()\n",
    "\n",
    "# Renomear a coluna para 'Count'\n",
    "df_aggregated = df_aggregated.rename('Count')\n",
    "\n",
    "df_aggregated = df_aggregated.reset_index()\n",
    "df_aggregated = df_aggregated.rename(columns={'index': 'Status'})\n",
    "print(df_aggregated)\n",
    "\n"
   ]
  },
  {
   "cell_type": "code",
   "execution_count": 26,
   "metadata": {},
   "outputs": [
    {
     "data": {
      "application/vnd.plotly.v1+json": {
       "config": {
        "plotlyServerURL": "https://plot.ly"
       },
       "data": [
        {
         "alignmentgroup": "True",
         "hovertemplate": "Status=%{x}<br>Count=%{y}<extra></extra>",
         "legendgroup": "Atrasado",
         "marker": {
          "color": "#636efa",
          "pattern": {
           "shape": ""
          }
         },
         "name": "Atrasado",
         "offsetgroup": "Atrasado",
         "orientation": "v",
         "showlegend": true,
         "textposition": "auto",
         "type": "bar",
         "x": [
          "Atrasado"
         ],
         "xaxis": "x",
         "y": [
          3135
         ],
         "yaxis": "y"
        },
        {
         "alignmentgroup": "True",
         "hovertemplate": "Status=%{x}<br>Count=%{y}<extra></extra>",
         "legendgroup": "No Prazo",
         "marker": {
          "color": "#EF553B",
          "pattern": {
           "shape": ""
          }
         },
         "name": "No Prazo",
         "offsetgroup": "No Prazo",
         "orientation": "v",
         "showlegend": true,
         "textposition": "auto",
         "type": "bar",
         "x": [
          "No Prazo"
         ],
         "xaxis": "x",
         "y": [
          1147
         ],
         "yaxis": "y"
        }
       ],
       "layout": {
        "barmode": "relative",
        "legend": {
         "title": {
          "text": "Status"
         },
         "tracegroupgap": 0
        },
        "template": {
         "data": {
          "bar": [
           {
            "error_x": {
             "color": "#2a3f5f"
            },
            "error_y": {
             "color": "#2a3f5f"
            },
            "marker": {
             "line": {
              "color": "#E5ECF6",
              "width": 0.5
             },
             "pattern": {
              "fillmode": "overlay",
              "size": 10,
              "solidity": 0.2
             }
            },
            "type": "bar"
           }
          ],
          "barpolar": [
           {
            "marker": {
             "line": {
              "color": "#E5ECF6",
              "width": 0.5
             },
             "pattern": {
              "fillmode": "overlay",
              "size": 10,
              "solidity": 0.2
             }
            },
            "type": "barpolar"
           }
          ],
          "carpet": [
           {
            "aaxis": {
             "endlinecolor": "#2a3f5f",
             "gridcolor": "white",
             "linecolor": "white",
             "minorgridcolor": "white",
             "startlinecolor": "#2a3f5f"
            },
            "baxis": {
             "endlinecolor": "#2a3f5f",
             "gridcolor": "white",
             "linecolor": "white",
             "minorgridcolor": "white",
             "startlinecolor": "#2a3f5f"
            },
            "type": "carpet"
           }
          ],
          "choropleth": [
           {
            "colorbar": {
             "outlinewidth": 0,
             "ticks": ""
            },
            "type": "choropleth"
           }
          ],
          "contour": [
           {
            "colorbar": {
             "outlinewidth": 0,
             "ticks": ""
            },
            "colorscale": [
             [
              0,
              "#0d0887"
             ],
             [
              0.1111111111111111,
              "#46039f"
             ],
             [
              0.2222222222222222,
              "#7201a8"
             ],
             [
              0.3333333333333333,
              "#9c179e"
             ],
             [
              0.4444444444444444,
              "#bd3786"
             ],
             [
              0.5555555555555556,
              "#d8576b"
             ],
             [
              0.6666666666666666,
              "#ed7953"
             ],
             [
              0.7777777777777778,
              "#fb9f3a"
             ],
             [
              0.8888888888888888,
              "#fdca26"
             ],
             [
              1,
              "#f0f921"
             ]
            ],
            "type": "contour"
           }
          ],
          "contourcarpet": [
           {
            "colorbar": {
             "outlinewidth": 0,
             "ticks": ""
            },
            "type": "contourcarpet"
           }
          ],
          "heatmap": [
           {
            "colorbar": {
             "outlinewidth": 0,
             "ticks": ""
            },
            "colorscale": [
             [
              0,
              "#0d0887"
             ],
             [
              0.1111111111111111,
              "#46039f"
             ],
             [
              0.2222222222222222,
              "#7201a8"
             ],
             [
              0.3333333333333333,
              "#9c179e"
             ],
             [
              0.4444444444444444,
              "#bd3786"
             ],
             [
              0.5555555555555556,
              "#d8576b"
             ],
             [
              0.6666666666666666,
              "#ed7953"
             ],
             [
              0.7777777777777778,
              "#fb9f3a"
             ],
             [
              0.8888888888888888,
              "#fdca26"
             ],
             [
              1,
              "#f0f921"
             ]
            ],
            "type": "heatmap"
           }
          ],
          "heatmapgl": [
           {
            "colorbar": {
             "outlinewidth": 0,
             "ticks": ""
            },
            "colorscale": [
             [
              0,
              "#0d0887"
             ],
             [
              0.1111111111111111,
              "#46039f"
             ],
             [
              0.2222222222222222,
              "#7201a8"
             ],
             [
              0.3333333333333333,
              "#9c179e"
             ],
             [
              0.4444444444444444,
              "#bd3786"
             ],
             [
              0.5555555555555556,
              "#d8576b"
             ],
             [
              0.6666666666666666,
              "#ed7953"
             ],
             [
              0.7777777777777778,
              "#fb9f3a"
             ],
             [
              0.8888888888888888,
              "#fdca26"
             ],
             [
              1,
              "#f0f921"
             ]
            ],
            "type": "heatmapgl"
           }
          ],
          "histogram": [
           {
            "marker": {
             "pattern": {
              "fillmode": "overlay",
              "size": 10,
              "solidity": 0.2
             }
            },
            "type": "histogram"
           }
          ],
          "histogram2d": [
           {
            "colorbar": {
             "outlinewidth": 0,
             "ticks": ""
            },
            "colorscale": [
             [
              0,
              "#0d0887"
             ],
             [
              0.1111111111111111,
              "#46039f"
             ],
             [
              0.2222222222222222,
              "#7201a8"
             ],
             [
              0.3333333333333333,
              "#9c179e"
             ],
             [
              0.4444444444444444,
              "#bd3786"
             ],
             [
              0.5555555555555556,
              "#d8576b"
             ],
             [
              0.6666666666666666,
              "#ed7953"
             ],
             [
              0.7777777777777778,
              "#fb9f3a"
             ],
             [
              0.8888888888888888,
              "#fdca26"
             ],
             [
              1,
              "#f0f921"
             ]
            ],
            "type": "histogram2d"
           }
          ],
          "histogram2dcontour": [
           {
            "colorbar": {
             "outlinewidth": 0,
             "ticks": ""
            },
            "colorscale": [
             [
              0,
              "#0d0887"
             ],
             [
              0.1111111111111111,
              "#46039f"
             ],
             [
              0.2222222222222222,
              "#7201a8"
             ],
             [
              0.3333333333333333,
              "#9c179e"
             ],
             [
              0.4444444444444444,
              "#bd3786"
             ],
             [
              0.5555555555555556,
              "#d8576b"
             ],
             [
              0.6666666666666666,
              "#ed7953"
             ],
             [
              0.7777777777777778,
              "#fb9f3a"
             ],
             [
              0.8888888888888888,
              "#fdca26"
             ],
             [
              1,
              "#f0f921"
             ]
            ],
            "type": "histogram2dcontour"
           }
          ],
          "mesh3d": [
           {
            "colorbar": {
             "outlinewidth": 0,
             "ticks": ""
            },
            "type": "mesh3d"
           }
          ],
          "parcoords": [
           {
            "line": {
             "colorbar": {
              "outlinewidth": 0,
              "ticks": ""
             }
            },
            "type": "parcoords"
           }
          ],
          "pie": [
           {
            "automargin": true,
            "type": "pie"
           }
          ],
          "scatter": [
           {
            "fillpattern": {
             "fillmode": "overlay",
             "size": 10,
             "solidity": 0.2
            },
            "type": "scatter"
           }
          ],
          "scatter3d": [
           {
            "line": {
             "colorbar": {
              "outlinewidth": 0,
              "ticks": ""
             }
            },
            "marker": {
             "colorbar": {
              "outlinewidth": 0,
              "ticks": ""
             }
            },
            "type": "scatter3d"
           }
          ],
          "scattercarpet": [
           {
            "marker": {
             "colorbar": {
              "outlinewidth": 0,
              "ticks": ""
             }
            },
            "type": "scattercarpet"
           }
          ],
          "scattergeo": [
           {
            "marker": {
             "colorbar": {
              "outlinewidth": 0,
              "ticks": ""
             }
            },
            "type": "scattergeo"
           }
          ],
          "scattergl": [
           {
            "marker": {
             "colorbar": {
              "outlinewidth": 0,
              "ticks": ""
             }
            },
            "type": "scattergl"
           }
          ],
          "scattermapbox": [
           {
            "marker": {
             "colorbar": {
              "outlinewidth": 0,
              "ticks": ""
             }
            },
            "type": "scattermapbox"
           }
          ],
          "scatterpolar": [
           {
            "marker": {
             "colorbar": {
              "outlinewidth": 0,
              "ticks": ""
             }
            },
            "type": "scatterpolar"
           }
          ],
          "scatterpolargl": [
           {
            "marker": {
             "colorbar": {
              "outlinewidth": 0,
              "ticks": ""
             }
            },
            "type": "scatterpolargl"
           }
          ],
          "scatterternary": [
           {
            "marker": {
             "colorbar": {
              "outlinewidth": 0,
              "ticks": ""
             }
            },
            "type": "scatterternary"
           }
          ],
          "surface": [
           {
            "colorbar": {
             "outlinewidth": 0,
             "ticks": ""
            },
            "colorscale": [
             [
              0,
              "#0d0887"
             ],
             [
              0.1111111111111111,
              "#46039f"
             ],
             [
              0.2222222222222222,
              "#7201a8"
             ],
             [
              0.3333333333333333,
              "#9c179e"
             ],
             [
              0.4444444444444444,
              "#bd3786"
             ],
             [
              0.5555555555555556,
              "#d8576b"
             ],
             [
              0.6666666666666666,
              "#ed7953"
             ],
             [
              0.7777777777777778,
              "#fb9f3a"
             ],
             [
              0.8888888888888888,
              "#fdca26"
             ],
             [
              1,
              "#f0f921"
             ]
            ],
            "type": "surface"
           }
          ],
          "table": [
           {
            "cells": {
             "fill": {
              "color": "#EBF0F8"
             },
             "line": {
              "color": "white"
             }
            },
            "header": {
             "fill": {
              "color": "#C8D4E3"
             },
             "line": {
              "color": "white"
             }
            },
            "type": "table"
           }
          ]
         },
         "layout": {
          "annotationdefaults": {
           "arrowcolor": "#2a3f5f",
           "arrowhead": 0,
           "arrowwidth": 1
          },
          "autotypenumbers": "strict",
          "coloraxis": {
           "colorbar": {
            "outlinewidth": 0,
            "ticks": ""
           }
          },
          "colorscale": {
           "diverging": [
            [
             0,
             "#8e0152"
            ],
            [
             0.1,
             "#c51b7d"
            ],
            [
             0.2,
             "#de77ae"
            ],
            [
             0.3,
             "#f1b6da"
            ],
            [
             0.4,
             "#fde0ef"
            ],
            [
             0.5,
             "#f7f7f7"
            ],
            [
             0.6,
             "#e6f5d0"
            ],
            [
             0.7,
             "#b8e186"
            ],
            [
             0.8,
             "#7fbc41"
            ],
            [
             0.9,
             "#4d9221"
            ],
            [
             1,
             "#276419"
            ]
           ],
           "sequential": [
            [
             0,
             "#0d0887"
            ],
            [
             0.1111111111111111,
             "#46039f"
            ],
            [
             0.2222222222222222,
             "#7201a8"
            ],
            [
             0.3333333333333333,
             "#9c179e"
            ],
            [
             0.4444444444444444,
             "#bd3786"
            ],
            [
             0.5555555555555556,
             "#d8576b"
            ],
            [
             0.6666666666666666,
             "#ed7953"
            ],
            [
             0.7777777777777778,
             "#fb9f3a"
            ],
            [
             0.8888888888888888,
             "#fdca26"
            ],
            [
             1,
             "#f0f921"
            ]
           ],
           "sequentialminus": [
            [
             0,
             "#0d0887"
            ],
            [
             0.1111111111111111,
             "#46039f"
            ],
            [
             0.2222222222222222,
             "#7201a8"
            ],
            [
             0.3333333333333333,
             "#9c179e"
            ],
            [
             0.4444444444444444,
             "#bd3786"
            ],
            [
             0.5555555555555556,
             "#d8576b"
            ],
            [
             0.6666666666666666,
             "#ed7953"
            ],
            [
             0.7777777777777778,
             "#fb9f3a"
            ],
            [
             0.8888888888888888,
             "#fdca26"
            ],
            [
             1,
             "#f0f921"
            ]
           ]
          },
          "colorway": [
           "#636efa",
           "#EF553B",
           "#00cc96",
           "#ab63fa",
           "#FFA15A",
           "#19d3f3",
           "#FF6692",
           "#B6E880",
           "#FF97FF",
           "#FECB52"
          ],
          "font": {
           "color": "#2a3f5f"
          },
          "geo": {
           "bgcolor": "white",
           "lakecolor": "white",
           "landcolor": "#E5ECF6",
           "showlakes": true,
           "showland": true,
           "subunitcolor": "white"
          },
          "hoverlabel": {
           "align": "left"
          },
          "hovermode": "closest",
          "mapbox": {
           "style": "light"
          },
          "paper_bgcolor": "white",
          "plot_bgcolor": "#E5ECF6",
          "polar": {
           "angularaxis": {
            "gridcolor": "white",
            "linecolor": "white",
            "ticks": ""
           },
           "bgcolor": "#E5ECF6",
           "radialaxis": {
            "gridcolor": "white",
            "linecolor": "white",
            "ticks": ""
           }
          },
          "scene": {
           "xaxis": {
            "backgroundcolor": "#E5ECF6",
            "gridcolor": "white",
            "gridwidth": 2,
            "linecolor": "white",
            "showbackground": true,
            "ticks": "",
            "zerolinecolor": "white"
           },
           "yaxis": {
            "backgroundcolor": "#E5ECF6",
            "gridcolor": "white",
            "gridwidth": 2,
            "linecolor": "white",
            "showbackground": true,
            "ticks": "",
            "zerolinecolor": "white"
           },
           "zaxis": {
            "backgroundcolor": "#E5ECF6",
            "gridcolor": "white",
            "gridwidth": 2,
            "linecolor": "white",
            "showbackground": true,
            "ticks": "",
            "zerolinecolor": "white"
           }
          },
          "shapedefaults": {
           "line": {
            "color": "#2a3f5f"
           }
          },
          "ternary": {
           "aaxis": {
            "gridcolor": "white",
            "linecolor": "white",
            "ticks": ""
           },
           "baxis": {
            "gridcolor": "white",
            "linecolor": "white",
            "ticks": ""
           },
           "bgcolor": "#E5ECF6",
           "caxis": {
            "gridcolor": "white",
            "linecolor": "white",
            "ticks": ""
           }
          },
          "title": {
           "x": 0.05
          },
          "xaxis": {
           "automargin": true,
           "gridcolor": "white",
           "linecolor": "white",
           "ticks": "",
           "title": {
            "standoff": 15
           },
           "zerolinecolor": "white",
           "zerolinewidth": 2
          },
          "yaxis": {
           "automargin": true,
           "gridcolor": "white",
           "linecolor": "white",
           "ticks": "",
           "title": {
            "standoff": 15
           },
           "zerolinecolor": "white",
           "zerolinewidth": 2
          }
         }
        },
        "title": {
         "text": "Quantidade Total de Itens por Status"
        },
        "xaxis": {
         "anchor": "y",
         "categoryarray": [
          "Atrasado",
          "No Prazo"
         ],
         "categoryorder": "array",
         "domain": [
          0,
          1
         ],
         "title": {
          "text": "Status"
         }
        },
        "yaxis": {
         "anchor": "x",
         "domain": [
          0,
          1
         ],
         "title": {
          "text": "Count"
         }
        }
       }
      }
     },
     "metadata": {},
     "output_type": "display_data"
    }
   ],
   "source": [
    "import plotly.express as px\n",
    "\n",
    "# Agrupar os dados por 'Status' e somar os valores da coluna 'Itens'\n",
    "\n",
    "# Gráfico de barras\n",
    "fig = px.bar(df_aggregated, \n",
    "             x='Status', \n",
    "             y='Count', \n",
    "             color='Status', \n",
    "             title='Quantidade Total de Itens por Status',\n",
    "             labels={'Status': 'Status do Item', 'Status': 'Status'})\n",
    "\n",
    "\n",
    "# Exibe o gráfico\n",
    "fig.show()\n"
   ]
  },
  {
   "cell_type": "code",
   "execution_count": 27,
   "metadata": {},
   "outputs": [
    {
     "data": {
      "image/png": "[encoded data removed]",
      "text/plain": [
       "<Figure size 1000x500 with 2 Axes>"
      ]
     },
     "metadata": {},
     "output_type": "display_data"
    }
   ],
   "source": [
    "import matplotlib.pyplot as plt\n",
    "\n",
    "# Dados\n",
    "Graf1 = df['Status'].value_counts()\n",
    "Graf2 = df['Cliente'].value_counts()\n",
    "\n",
    "# Criando a figura com dois gráficos lado a lado\n",
    "fig, (ax1, ax2) = plt.subplots(nrows=1, ncols=2, figsize=(10, 5))\n",
    "\n",
    "Graf_color = ['#1b764a', '#eebd32', '#bfc041', '#549C4A', '#80BF77', '#2e573d']\n",
    "\n",
    "# Gráfico 1\n",
    "Graf1.plot(kind='bar', color=Graf_color, ax=ax1)\n",
    "ax1.set_title('Gráfico 1', fontsize=15)\n",
    "ax1.set_ylabel('y')\n",
    "\n",
    "# Gráfico 2\n",
    "Graf2.plot(kind='bar', color=Graf_color, ax=ax2)\n",
    "ax2.set_title('Gráfico 2', fontsize=15)\n",
    "ax2.set_xlabel('x')\n",
    "ax2.set_ylabel('y')\n",
    "\n",
    "# Adicionando os valores nas barras de Graf1\n",
    "for p in ax1.patches:\n",
    "    ax1.annotate(f'{p.get_height()}',\n",
    "                 (p.get_x() + p.get_width() / 2, p.get_height()),\n",
    "                 ha='center', va='center',\n",
    "                 fontsize=10, color='black',\n",
    "                 xytext=(0, 5), textcoords='offset points')\n",
    "\n",
    "# Adicionando os valores nas barras de Graf2\n",
    "for p in ax2.patches:\n",
    "    ax2.annotate(f'{p.get_height()}',\n",
    "                 (p.get_x() + p.get_width() / 2, p.get_height()),\n",
    "                 ha='center', va='center',\n",
    "                 fontsize=10, color='black',\n",
    "                 xytext=(0, 5), textcoords='offset points')\n",
    "\n",
    "# Ajustando o layout\n",
    "plt.tight_layout()\n",
    "plt.show()\n"
   ]
  },
  {
   "cell_type": "markdown",
   "metadata": {},
   "source": [
    "# DashBoard"
   ]
  },
  {
   "cell_type": "code",
   "execution_count": 28,
   "metadata": {},
   "outputs": [],
   "source": [
    "import streamlit as st"
   ]
  },
  {
   "cell_type": "code",
   "execution_count": 29,
   "metadata": {},
   "outputs": [],
   "source": [
    "st.set_page_config(layout='wide')"
   ]
  }
 ],
 "metadata": {
  "kernelspec": {
   "display_name": "base",
   "language": "python",
   "name": "python3"
  },
  "language_info": {
   "codemirror_mode": {
    "name": "ipython",
    "version": 3
   },
   "file_extension": ".py",
   "mimetype": "text/x-python",
   "name": "python",
   "nbconvert_exporter": "python",
   "pygments_lexer": "ipython3",
   "version": "3.12.7"
  }
 },
 "nbformat": 4,
 "nbformat_minor": 2
}
